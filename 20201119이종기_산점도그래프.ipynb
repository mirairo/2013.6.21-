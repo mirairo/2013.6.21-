{
  "nbformat": 4,
  "nbformat_minor": 0,
  "metadata": {
    "colab": {
      "name": "20201119이종기-산점도그래프.ipynb",
      "provenance": [],
      "authorship_tag": "ABX9TyMxowMv7te0UwD0L6J9khsQ",
      "include_colab_link": true
    },
    "kernelspec": {
      "name": "python3",
      "display_name": "Python 3"
    }
  },
  "cells": [
    {
      "cell_type": "markdown",
      "metadata": {
        "id": "view-in-github",
        "colab_type": "text"
      },
      "source": [
        "<a href=\"https://colab.research.google.com/github/mirairo/2013.6.21-/blob/master/20201119%EC%9D%B4%EC%A2%85%EA%B8%B0_%EC%82%B0%EC%A0%90%EB%8F%84%EA%B7%B8%EB%9E%98%ED%94%84.ipynb\" target=\"_parent\"><img src=\"https://colab.research.google.com/assets/colab-badge.svg\" alt=\"Open In Colab\"/></a>"
      ]
    },
    {
      "cell_type": "code",
      "metadata": {
        "id": "8CzBPDthOB0F"
      },
      "source": [
        "import pandas as pd"
      ],
      "execution_count": 112,
      "outputs": []
    },
    {
      "cell_type": "code",
      "metadata": {
        "colab": {
          "base_uri": "https://localhost:8080/",
          "height": 203
        },
        "id": "AM5R4IVVPDkv",
        "outputId": "31c6a3f3-f491-4286-fc41-2511265ad77c"
      },
      "source": [
        "# 판다스의 데이터 프레임을 생성\n",
        "names = ['Bob', 'Jessica', 'Mary','John', 'Mel']\n",
        "births = [968, 155, 77, 578, 973]\n",
        "custom = [1, 5, 25, 13, 23232]\n",
        "\n",
        "BabyDataSet = list(zip(names,births))\n",
        "df = pd.DataFrame(data = BabyDataSet, columns=['Names', 'Birth'])\n",
        "\n",
        "# 데이터프레임의 상단 부분을 출력하기\n",
        "df.head()\n",
        "df.head()\n"
      ],
      "execution_count": 113,
      "outputs": [
        {
          "output_type": "execute_result",
          "data": {
            "text/html": [
              "<div>\n",
              "<style scoped>\n",
              "    .dataframe tbody tr th:only-of-type {\n",
              "        vertical-align: middle;\n",
              "    }\n",
              "\n",
              "    .dataframe tbody tr th {\n",
              "        vertical-align: top;\n",
              "    }\n",
              "\n",
              "    .dataframe thead th {\n",
              "        text-align: right;\n",
              "    }\n",
              "</style>\n",
              "<table border=\"1\" class=\"dataframe\">\n",
              "  <thead>\n",
              "    <tr style=\"text-align: right;\">\n",
              "      <th></th>\n",
              "      <th>Names</th>\n",
              "      <th>Birth</th>\n",
              "    </tr>\n",
              "  </thead>\n",
              "  <tbody>\n",
              "    <tr>\n",
              "      <th>0</th>\n",
              "      <td>Bob</td>\n",
              "      <td>968</td>\n",
              "    </tr>\n",
              "    <tr>\n",
              "      <th>1</th>\n",
              "      <td>Jessica</td>\n",
              "      <td>155</td>\n",
              "    </tr>\n",
              "    <tr>\n",
              "      <th>2</th>\n",
              "      <td>Mary</td>\n",
              "      <td>77</td>\n",
              "    </tr>\n",
              "    <tr>\n",
              "      <th>3</th>\n",
              "      <td>John</td>\n",
              "      <td>578</td>\n",
              "    </tr>\n",
              "    <tr>\n",
              "      <th>4</th>\n",
              "      <td>Mel</td>\n",
              "      <td>973</td>\n",
              "    </tr>\n",
              "  </tbody>\n",
              "</table>\n",
              "</div>"
            ],
            "text/plain": [
              "     Names  Birth\n",
              "0      Bob    968\n",
              "1  Jessica    155\n",
              "2     Mary     77\n",
              "3     John    578\n",
              "4      Mel    973"
            ]
          },
          "metadata": {
            "tags": []
          },
          "execution_count": 113
        }
      ]
    },
    {
      "cell_type": "code",
      "metadata": {
        "colab": {
          "base_uri": "https://localhost:8080/"
        },
        "id": "TJyJs1YCRBzE",
        "outputId": "e2ad7f86-72bc-4f2f-a2d1-12fb1ba7684f"
      },
      "source": [
        "df.dtypes"
      ],
      "execution_count": 114,
      "outputs": [
        {
          "output_type": "execute_result",
          "data": {
            "text/plain": [
              "Names    object\n",
              "Birth     int64\n",
              "dtype: object"
            ]
          },
          "metadata": {
            "tags": []
          },
          "execution_count": 114
        }
      ]
    },
    {
      "cell_type": "code",
      "metadata": {
        "colab": {
          "base_uri": "https://localhost:8080/"
        },
        "id": "D96rFbXtSbR-",
        "outputId": "2303e759-bee3-46f6-affb-22472eb112bd"
      },
      "source": [
        "df.index"
      ],
      "execution_count": 115,
      "outputs": [
        {
          "output_type": "execute_result",
          "data": {
            "text/plain": [
              "RangeIndex(start=0, stop=5, step=1)"
            ]
          },
          "metadata": {
            "tags": []
          },
          "execution_count": 115
        }
      ]
    },
    {
      "cell_type": "code",
      "metadata": {
        "colab": {
          "base_uri": "https://localhost:8080/"
        },
        "id": "kkwDOQ4ISrr_",
        "outputId": "d60641dd-d781-4a13-e2d3-4a5381dcee16"
      },
      "source": [
        "df.columns"
      ],
      "execution_count": 116,
      "outputs": [
        {
          "output_type": "execute_result",
          "data": {
            "text/plain": [
              "Index(['Names', 'Birth'], dtype='object')"
            ]
          },
          "metadata": {
            "tags": []
          },
          "execution_count": 116
        }
      ]
    },
    {
      "cell_type": "code",
      "metadata": {
        "colab": {
          "base_uri": "https://localhost:8080/"
        },
        "id": "gPGXw6fYS8Om",
        "outputId": "664253bb-9754-4120-fd08-d16f54dfcfa7"
      },
      "source": [
        "# 데이터 프레임에서 하나의 열을 선택합니다\n",
        "df['Names']"
      ],
      "execution_count": 117,
      "outputs": [
        {
          "output_type": "execute_result",
          "data": {
            "text/plain": [
              "0        Bob\n",
              "1    Jessica\n",
              "2       Mary\n",
              "3       John\n",
              "4        Mel\n",
              "Name: Names, dtype: object"
            ]
          },
          "metadata": {
            "tags": []
          },
          "execution_count": 117
        }
      ]
    },
    {
      "cell_type": "code",
      "metadata": {
        "colab": {
          "base_uri": "https://localhost:8080/"
        },
        "id": "J7IyuwniTSl-",
        "outputId": "5ff6f3b9-51c6-434b-9aae-797adb295bf7"
      },
      "source": [
        "df['Birth']"
      ],
      "execution_count": 118,
      "outputs": [
        {
          "output_type": "execute_result",
          "data": {
            "text/plain": [
              "0    968\n",
              "1    155\n",
              "2     77\n",
              "3    578\n",
              "4    973\n",
              "Name: Birth, dtype: int64"
            ]
          },
          "metadata": {
            "tags": []
          },
          "execution_count": 118
        }
      ]
    },
    {
      "cell_type": "code",
      "metadata": {
        "colab": {
          "base_uri": "https://localhost:8080/",
          "height": 141
        },
        "id": "6aLBd7fZTg3-",
        "outputId": "fa9ed51c-ecff-4496-8686-07052df17dee"
      },
      "source": [
        "# 0-3번째 인덱스를 선택하기\n",
        "df[0:3]"
      ],
      "execution_count": 119,
      "outputs": [
        {
          "output_type": "execute_result",
          "data": {
            "text/html": [
              "<div>\n",
              "<style scoped>\n",
              "    .dataframe tbody tr th:only-of-type {\n",
              "        vertical-align: middle;\n",
              "    }\n",
              "\n",
              "    .dataframe tbody tr th {\n",
              "        vertical-align: top;\n",
              "    }\n",
              "\n",
              "    .dataframe thead th {\n",
              "        text-align: right;\n",
              "    }\n",
              "</style>\n",
              "<table border=\"1\" class=\"dataframe\">\n",
              "  <thead>\n",
              "    <tr style=\"text-align: right;\">\n",
              "      <th></th>\n",
              "      <th>Names</th>\n",
              "      <th>Birth</th>\n",
              "    </tr>\n",
              "  </thead>\n",
              "  <tbody>\n",
              "    <tr>\n",
              "      <th>0</th>\n",
              "      <td>Bob</td>\n",
              "      <td>968</td>\n",
              "    </tr>\n",
              "    <tr>\n",
              "      <th>1</th>\n",
              "      <td>Jessica</td>\n",
              "      <td>155</td>\n",
              "    </tr>\n",
              "    <tr>\n",
              "      <th>2</th>\n",
              "      <td>Mary</td>\n",
              "      <td>77</td>\n",
              "    </tr>\n",
              "  </tbody>\n",
              "</table>\n",
              "</div>"
            ],
            "text/plain": [
              "     Names  Birth\n",
              "0      Bob    968\n",
              "1  Jessica    155\n",
              "2     Mary     77"
            ]
          },
          "metadata": {
            "tags": []
          },
          "execution_count": 119
        }
      ]
    },
    {
      "cell_type": "code",
      "metadata": {
        "colab": {
          "base_uri": "https://localhost:8080/",
          "height": 172
        },
        "id": "23GtWPudUiHe",
        "outputId": "24bd2f98-bbeb-4dff-ff7b-62ad1c449346"
      },
      "source": [
        "# Births 열이 100보다 큰 데이터를 선택하시오\n",
        "df[df['Birth'] > 100]"
      ],
      "execution_count": 120,
      "outputs": [
        {
          "output_type": "execute_result",
          "data": {
            "text/html": [
              "<div>\n",
              "<style scoped>\n",
              "    .dataframe tbody tr th:only-of-type {\n",
              "        vertical-align: middle;\n",
              "    }\n",
              "\n",
              "    .dataframe tbody tr th {\n",
              "        vertical-align: top;\n",
              "    }\n",
              "\n",
              "    .dataframe thead th {\n",
              "        text-align: right;\n",
              "    }\n",
              "</style>\n",
              "<table border=\"1\" class=\"dataframe\">\n",
              "  <thead>\n",
              "    <tr style=\"text-align: right;\">\n",
              "      <th></th>\n",
              "      <th>Names</th>\n",
              "      <th>Birth</th>\n",
              "    </tr>\n",
              "  </thead>\n",
              "  <tbody>\n",
              "    <tr>\n",
              "      <th>0</th>\n",
              "      <td>Bob</td>\n",
              "      <td>968</td>\n",
              "    </tr>\n",
              "    <tr>\n",
              "      <th>1</th>\n",
              "      <td>Jessica</td>\n",
              "      <td>155</td>\n",
              "    </tr>\n",
              "    <tr>\n",
              "      <th>3</th>\n",
              "      <td>John</td>\n",
              "      <td>578</td>\n",
              "    </tr>\n",
              "    <tr>\n",
              "      <th>4</th>\n",
              "      <td>Mel</td>\n",
              "      <td>973</td>\n",
              "    </tr>\n",
              "  </tbody>\n",
              "</table>\n",
              "</div>"
            ],
            "text/plain": [
              "     Names  Birth\n",
              "0      Bob    968\n",
              "1  Jessica    155\n",
              "3     John    578\n",
              "4      Mel    973"
            ]
          },
          "metadata": {
            "tags": []
          },
          "execution_count": 120
        }
      ]
    },
    {
      "cell_type": "code",
      "metadata": {
        "colab": {
          "base_uri": "https://localhost:8080/"
        },
        "id": "oPiHp293U7WF",
        "outputId": "d068459e-5aff-4d6b-e71c-e5b59969bcd4"
      },
      "source": [
        "# 평균값을 계산하시오\n",
        "df.mean()"
      ],
      "execution_count": 121,
      "outputs": [
        {
          "output_type": "execute_result",
          "data": {
            "text/plain": [
              "Birth    550.2\n",
              "dtype: float64"
            ]
          },
          "metadata": {
            "tags": []
          },
          "execution_count": 121
        }
      ]
    },
    {
      "cell_type": "code",
      "metadata": {
        "id": "F_Dk0t7bVG49"
      },
      "source": [
        "import numpy as np"
      ],
      "execution_count": 122,
      "outputs": []
    },
    {
      "cell_type": "code",
      "metadata": {
        "colab": {
          "base_uri": "https://localhost:8080/"
        },
        "id": "zeU3UwDjVgvN",
        "outputId": "8e290132-3d55-4b7a-9ce2-74d8e069b589"
      },
      "source": [
        "arr1 = np.arange(15).reshape(3,5)\n",
        "arr1"
      ],
      "execution_count": 123,
      "outputs": [
        {
          "output_type": "execute_result",
          "data": {
            "text/plain": [
              "array([[ 0,  1,  2,  3,  4],\n",
              "       [ 5,  6,  7,  8,  9],\n",
              "       [10, 11, 12, 13, 14]])"
            ]
          },
          "metadata": {
            "tags": []
          },
          "execution_count": 123
        }
      ]
    },
    {
      "cell_type": "code",
      "metadata": {
        "colab": {
          "base_uri": "https://localhost:8080/"
        },
        "id": "UclB9OsMV5dt",
        "outputId": "fbcf947e-94d6-474c-d831-d35c013ac4c7"
      },
      "source": [
        "arr1.shape"
      ],
      "execution_count": 124,
      "outputs": [
        {
          "output_type": "execute_result",
          "data": {
            "text/plain": [
              "(3, 5)"
            ]
          },
          "metadata": {
            "tags": []
          },
          "execution_count": 124
        }
      ]
    },
    {
      "cell_type": "code",
      "metadata": {
        "colab": {
          "base_uri": "https://localhost:8080/"
        },
        "id": "tLxazVtRWL9G",
        "outputId": "09974e4a-3f3b-45b9-da92-abd382059268"
      },
      "source": [
        "arr1.dtype"
      ],
      "execution_count": 125,
      "outputs": [
        {
          "output_type": "execute_result",
          "data": {
            "text/plain": [
              "dtype('int64')"
            ]
          },
          "metadata": {
            "tags": []
          },
          "execution_count": 125
        }
      ]
    },
    {
      "cell_type": "code",
      "metadata": {
        "colab": {
          "base_uri": "https://localhost:8080/"
        },
        "id": "DaEq5Z86WUg2",
        "outputId": "ab167cce-c670-45ce-e578-4d21845a8afc"
      },
      "source": [
        "arr3 = np.zeros((3,4))\n",
        "arr3"
      ],
      "execution_count": 126,
      "outputs": [
        {
          "output_type": "execute_result",
          "data": {
            "text/plain": [
              "array([[0., 0., 0., 0.],\n",
              "       [0., 0., 0., 0.],\n",
              "       [0., 0., 0., 0.]])"
            ]
          },
          "metadata": {
            "tags": []
          },
          "execution_count": 126
        }
      ]
    },
    {
      "cell_type": "code",
      "metadata": {
        "colab": {
          "base_uri": "https://localhost:8080/"
        },
        "id": "AS8r_-MMWjl2",
        "outputId": "3808c729-12f8-402d-e3e2-c157e5aa2fa4"
      },
      "source": [
        "# 넘파이 배열을 이용한 사칙연산을 해 봅니다\n",
        "arr4 = np.array([\n",
        "      [1,2,3],\n",
        "      [4,5,6]\n",
        "], dtype = np.float64)\n",
        "\n",
        "arr5 = np.array([\n",
        "      [7,8,9],\n",
        "      [10,11,12]\n",
        "], dtype = np.float64)\n",
        "\n",
        "# 사칙연산을 실행합니다\n",
        "print(\"arr4 + arr5 = \")\n",
        "print(arr4 + arr5, '\\n')\n",
        "print(\"arr4 - arr5 = \")\n",
        "print(arr4 - arr5, '\\n')\n",
        "print(\"arr4 * arr5 = \")\n",
        "print(arr4 * arr5, '\\n')\n",
        "print(\"arr4 / arr5 = \")\n",
        "print(arr4 / arr5, '\\n')\n",
        "\n"
      ],
      "execution_count": 127,
      "outputs": [
        {
          "output_type": "stream",
          "text": [
            "arr4 + arr5 = \n",
            "[[ 8. 10. 12.]\n",
            " [14. 16. 18.]] \n",
            "\n",
            "arr4 - arr5 = \n",
            "[[-6. -6. -6.]\n",
            " [-6. -6. -6.]] \n",
            "\n",
            "arr4 * arr5 = \n",
            "[[ 7. 16. 27.]\n",
            " [40. 55. 72.]] \n",
            "\n",
            "arr4 / arr5 = \n",
            "[[0.14285714 0.25       0.33333333]\n",
            " [0.4        0.45454545 0.5       ]] \n",
            "\n"
          ],
          "name": "stdout"
        }
      ]
    },
    {
      "cell_type": "code",
      "metadata": {
        "id": "Su7dTC60b8KI"
      },
      "source": [
        "# 시각화 작업\n",
        "%matplotlib inline\n",
        "import matplotlib.pyplot as plt\n"
      ],
      "execution_count": 128,
      "outputs": []
    },
    {
      "cell_type": "code",
      "metadata": {
        "colab": {
          "base_uri": "https://localhost:8080/",
          "height": 295
        },
        "id": "obduTFffcUwI",
        "outputId": "f97f0788-f613-42cf-e8f7-271ee2f6148b"
      },
      "source": [
        "# 막대 그래프 출력하기\n",
        "y = df['Birth']\n",
        "x = df['Names']\n",
        "\n",
        "# 막대 그래프 출력실행\n",
        "plt.bar(x, y)\n",
        "plt.xlabel('Names')\n",
        "plt.ylabel('Births')\n",
        "plt.title('20201119jongkilee-graph')\n",
        "plt.show()"
      ],
      "execution_count": 129,
      "outputs": [
        {
          "output_type": "display_data",
          "data": {
            "image/png": "[encoded data removed]",
            "text/plain": [
              "<Figure size 432x288 with 1 Axes>"
            ]
          },
          "metadata": {
            "tags": [],
            "needs_background": "light"
          }
        }
      ]
    },
    {
      "cell_type": "code",
      "metadata": {
        "colab": {
          "base_uri": "https://localhost:8080/",
          "height": 295
        },
        "id": "DTJwurGReAeR",
        "outputId": "f6ada410-c7f9-4313-b443-441d25594c9b"
      },
      "source": [
        "np.random.seed(19920613)\n",
        "x = np.arange(0.0, 100.0, 5.0)\n",
        "y = (x * 1.5) + np.random.rand(20) * 50\n",
        "\n",
        "plt.scatter(x, y, c=\"b\", alpha=0.5, label= \"scatter point\")\n",
        "plt.xlabel(\"x\")\n",
        "plt.ylabel(\"y\")\n",
        "plt.legend(loc='upper left')\n",
        "plt.title('20201119JongkiLee-scatter')\n",
        "plt.show()"
      ],
      "execution_count": 130,
      "outputs": [
        {
          "output_type": "display_data",
          "data": {
            "image/png": "[encoded data removed]",
            "text/plain": [
              "<Figure size 432x288 with 1 Axes>"
            ]
          },
          "metadata": {
            "tags": [],
            "needs_background": "light"
          }
        }
      ]
    }
  ]
}