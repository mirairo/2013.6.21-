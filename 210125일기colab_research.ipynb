{
  "nbformat": 4,
  "nbformat_minor": 0,
  "metadata": {
    "colab": {
      "name": "210125일기colab.research.ipynb",
      "provenance": [],
      "collapsed_sections": [],
      "authorship_tag": "ABX9TyMX1ep+X0MTus05kL+zs0G1",
      "include_colab_link": true
    },
    "kernelspec": {
      "name": "python3",
      "display_name": "Python 3"
    }
  },
  "cells": [
    {
      "cell_type": "markdown",
      "metadata": {
        "id": "view-in-github",
        "colab_type": "text"
      },
      "source": [
        "<a href=\"https://colab.research.google.com/github/mirairo/2013.6.21-/blob/master/210125%EC%9D%BC%EA%B8%B0colab_research.ipynb\" target=\"_parent\"><img src=\"https://colab.research.google.com/assets/colab-badge.svg\" alt=\"Open In Colab\"/></a>"
      ]
    },
    {
      "cell_type": "code",
      "metadata": {
        "id": "o9Esh5ynH3j2"
      },
      "source": [
        ""
      ],
      "execution_count": null,
      "outputs": []
    },
    {
      "cell_type": "markdown",
      "metadata": {
        "id": "WjXGTuK_LD70"
      },
      "source": [
        "\"본질에 충실하자 \r\n",
        "본업에 충실하자\"\r\n",
        "\r\n",
        "\"배우기 쉬운 재미있는 공부, 시간, 나눔, 교제, 유익한 신앙 만들기\"\r\n",
        "\r\n",
        " 꿈에서 출석부 인쇄물 챵기는 꿈과 김재환 만남과 먼저 수업에 간다고 헤어진 꿈에서 깬날 새벽 4시에...\r\n",
        "\r\n",
        "\r\n",
        "\r\n",
        "\r\n",
        "유람선 교회, 전투함 교회, 방주 교회, 구조함 교회 중 어디에 가까운가?\r\n",
        "\r\n",
        "선교관련하여:\r\n",
        "흰두교 불교신자 왜 빼앗아 와야 하나? 국내의 선교가 먼저 아닌가? 선교열매?\r\n",
        "\r\n",
        "잃어버린 동전같은 영혼을 찾아 이 신앙을 심기위해\r\n",
        "\r\n",
        "누가복음6장(15?)은 로마서 압축한 의미 ...\r\n",
        "\r\n",
        "\r\n",
        "\r\n",
        "7절에  잃어버린 동전 깨닫고 돌이키고 회개할때...\r\n",
        "용서해놓고 기다리시는 하나님...\r\n",
        "선교하시는 하나님...\r\n",
        "\r\n",
        "죄인 한 명 회개에 하나님의 기쁨이 있다\r\n",
        "\r\n",
        "무학교회 윤동일 목사설교, 누가복음6:36~ 210125(월)04:00:50 중\r\n"
      ]
    },
    {
      "cell_type": "markdown",
      "metadata": {
        "id": "qQkVvf-sIFMo"
      },
      "source": [
        "새벽이다.\r\n",
        "\r\n",
        "03:55 꿈에서 깬 후 윤동일 목사님의 선교설교를 의미있게 들었다...\r\n",
        "서울극동방송 새벽예배 후 \r\n",
        "필리아교회 박순형목사의 귀한 말씀이다\r\n",
        "\r\n",
        "교회는 사회에 선한 영향력을 끼쳐야 한다.\r\n",
        "교회가 얼마나 선해야 할까?\r\n",
        "\r\n",
        "\r\n",
        "\r\n",
        "예수를 믿는 사람들이 안 믿는 자들과의 40% 이상 선해야 각인된다.\r\n",
        "기독교가 선하다라고 각인시키려면 뭔가 차별되도록 각인되어야 한다\r\n",
        "5리를 가자하면 10리를 가야한다.\r\n",
        "더 많은 양보를 하면서 살아야 한다.\r\n",
        "크리스천은 이웃 사랑을 실천하며 더 많은 양보를 하며\r\n",
        " 40% 이상 더 선해야 각인된다.\r\n",
        "\r\n",
        "찬양이다...\r\n",
        "\r\n",
        "가난한 영혼 지친 영혼을 주님께 인도하고픈데 나의 욕심이 나의 못난 자아가 언제나 크다란 짐되어 나를 짓눌러 나를 곤고케 하니 예수여 나를 도와 주소서.\r\n",
        "\r\n",
        "예수님처럼 바울처럼 그렇게 살 순 없을까?\r\n",
        "남을 위하여 당신들의 온 몸을 버리셨던 것처럼...\r\n",
        "\r\n",
        "주의 사랑은 베푸는 사랑 값 없이 그저 주는 사랑\r\n",
        "그러나 나는 주는 것보다 받는 것 더 좋아하니\r\n",
        "나의 입술은 주님 닮은 듯 하나\r\n",
        "내 맘은 아직도 추하여 받을 사랑만 계수하고 있으니\r\n",
        "예수여 나를 도와 주소서\r\n",
        "예수여 나를 도와 주소서\r\n",
        "\r\n",
        "210125월 JPJK(죽곡푸르지오이종기)\r\n",
        "\r\n"
      ]
    }
  ]
}