{
  "nbformat": 4,
  "nbformat_minor": 0,
  "metadata": {
    "colab": {
      "name": "20201115주.유니시티리스트.ipynb",
      "provenance": [],
      "authorship_tag": "ABX9TyOwYqJybX8SaYMFoAR6r8wN",
      "include_colab_link": true
    },
    "kernelspec": {
      "name": "python3",
      "display_name": "Python 3"
    }
  },
  "cells": [
    {
      "cell_type": "markdown",
      "metadata": {
        "id": "view-in-github",
        "colab_type": "text"
      },
      "source": [
        "<a href=\"https://colab.research.google.com/github/mirairo/2013.6.21-/blob/master/20201115%EC%A3%BC_%EC%9C%A0%EB%8B%88%EC%8B%9C%ED%8B%B0%EB%A6%AC%EC%8A%A4%ED%8A%B8.ipynb\" target=\"_parent\"><img src=\"https://colab.research.google.com/assets/colab-badge.svg\" alt=\"Open In Colab\"/></a>"
      ]
    },
    {
      "cell_type": "code",
      "metadata": {
        "id": "GpqyMzZpXJqq"
      },
      "source": [
        ""
      ],
      "execution_count": null,
      "outputs": []
    },
    {
      "cell_type": "markdown",
      "metadata": {
        "id": "9kv9CgZfXUXf"
      },
      "source": [
        "20201114토 유니시티 건강식품 복용 리스트\n"
      ]
    },
    {
      "cell_type": "markdown",
      "metadata": {
        "id": "YvFRjW4lbRNy"
      },
      "source": [
        "[유니시티 건강식품 복용 시작]. 20201114토부터~\n",
        "​\n",
        "1. 유니시티 오아시스, 히알루론산 비타민c, 아침 미지그한물 1봉/컵, 96,000/30포\n",
        "​\n",
        "2. 라이화이버, 건강기능식품 차전자피 식이섬유, 아침 미지근한물 1봉/1컵, 113,000/40포\n",
        "​\n",
        "3. 멘스포뮬라, 멀티비타민&미네랄 피로회복 전립선도움, 아침2알 저녁2알, 86,000/120캡슐\n",
        "​\n",
        "4. 패러웨이플러스비타민, 기생충제거 (디톡스)장내 유익균성장, \n",
        "아침2알 저녁2알, 30,000/120캡슐\n",
        "​\n",
        "5. 알로에 아보레센스, 변비개선 장운동, 자기전 3알, 36,000/60캡슐\n",
        "\n"
      ]
    },
    {
      "cell_type": "code",
      "metadata": {
        "id": "U2MBUbZAXciU",
        "outputId": "5b945944-f272-46e2-c5fd-559d1ef71b28",
        "colab": {
          "base_uri": "https://localhost:8080/"
        }
      },
      "source": [
        "품명 = [\"1. 오아시스\", \"2. 라이화이버\", \"3. 멘스포뮬라\", \"4. 패러웨이플러스비타민\", \"5. 알로에 아보레센스\"]\n",
        "기능 = [\"히알루론산 비타민c\", \"건강기능식품 차전자피 식이섬유\", \"멀티비타민&미네랄 피로회복 전립선도움\", \"기생충제거 (디톡스)장내 유익균성장\", \"변비개선 장운동\"]\n",
        "용법 = [\"아침 미지그한물 1봉/컵\", \"아침 미지근한물 1봉/1컵\", \"아침2알 저녁2알\",\"아침2알 저녁2알\", \"자기전 3알\"]\n",
        "가격 = [\"96,000/30포\", \"113,000/40포\", \"86,000/120캡슐\",\"30,000/120캡슐​\", \"36,000/60캡슐\"]\n",
        "\n",
        "pdt = 품명\n",
        "fuc = 기능\n",
        "usg = 용법\n",
        "pri = 가격\n",
        "\n",
        "print(pdt)"
      ],
      "execution_count": 1,
      "outputs": [
        {
          "output_type": "stream",
          "text": [
            "['1. 오아시스', '2. 라이화이버', '3. 멘스포뮬라', '4. 패러웨이플러스비타민', '5. 알로에 아보레센스']\n"
          ],
          "name": "stdout"
        }
      ]
    }
  ]
}